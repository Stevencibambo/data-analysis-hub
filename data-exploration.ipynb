{
 "cells": [
  {
   "cell_type": "code",
   "execution_count": 1,
   "metadata": {},
   "outputs": [],
   "source": [
    "# import necessary package\n",
    "\n",
    "import pandas as pd\n",
    "import matplotlib.pyplot as plt\n",
    "import numpy as np"
   ]
  },
  {
   "cell_type": "code",
   "execution_count": 2,
   "metadata": {},
   "outputs": [],
   "source": [
    "%matplotlib inline"
   ]
  },
  {
   "cell_type": "code",
   "execution_count": 9,
   "metadata": {},
   "outputs": [],
   "source": [
    "# loading data from csv\n",
    "\n",
    "root_dir = \"data/IMF/climate-change-data/\"\n",
    "file_name = \"4_CO2_Emissions_Emissions_Intensities_and_Emissions_Multipliers.csv\""
   ]
  },
  {
   "cell_type": "code",
   "execution_count": 10,
   "metadata": {},
   "outputs": [
    {
     "name": "stdout",
     "output_type": "stream",
     "text": [
      "data/IMF/climate-change-data/4_CO2_Emissions_Emissions_Intensities_and_Emissions_Multipliers.csv\n"
     ]
    }
   ],
   "source": [
    "print(root_dir + file_name)\n",
    "df = pd.read_csv(root_dir + file_name)"
   ]
  },
  {
   "cell_type": "code",
   "execution_count": 11,
   "metadata": {},
   "outputs": [
    {
     "data": {
      "text/plain": [
       "(8910, 35)"
      ]
     },
     "execution_count": 11,
     "metadata": {},
     "output_type": "execute_result"
    }
   ],
   "source": [
    "df.shape"
   ]
  },
  {
   "cell_type": "code",
   "execution_count": 12,
   "metadata": {},
   "outputs": [
    {
     "data": {
      "text/html": [
       "<div>\n",
       "<style scoped>\n",
       "    .dataframe tbody tr th:only-of-type {\n",
       "        vertical-align: middle;\n",
       "    }\n",
       "\n",
       "    .dataframe tbody tr th {\n",
       "        vertical-align: top;\n",
       "    }\n",
       "\n",
       "    .dataframe thead th {\n",
       "        text-align: right;\n",
       "    }\n",
       "</style>\n",
       "<table border=\"1\" class=\"dataframe\">\n",
       "  <thead>\n",
       "    <tr style=\"text-align: right;\">\n",
       "      <th></th>\n",
       "      <th>Country</th>\n",
       "      <th>ISO2</th>\n",
       "      <th>ISO3</th>\n",
       "      <th>Indicator</th>\n",
       "      <th>Unit</th>\n",
       "      <th>Source</th>\n",
       "      <th>CTS Code</th>\n",
       "      <th>CTS Name</th>\n",
       "      <th>CTS Full Descriptor</th>\n",
       "      <th>Industry</th>\n",
       "      <th>...</th>\n",
       "      <th>2009</th>\n",
       "      <th>2010</th>\n",
       "      <th>2011</th>\n",
       "      <th>2012</th>\n",
       "      <th>2013</th>\n",
       "      <th>2014</th>\n",
       "      <th>2015</th>\n",
       "      <th>2016</th>\n",
       "      <th>2017</th>\n",
       "      <th>2018</th>\n",
       "    </tr>\n",
       "  </thead>\n",
       "  <tbody>\n",
       "    <tr>\n",
       "      <th>0</th>\n",
       "      <td>Argentina</td>\n",
       "      <td>AR</td>\n",
       "      <td>ARG</td>\n",
       "      <td>CO2 emissions</td>\n",
       "      <td>Millions of Metric tons of CO2</td>\n",
       "      <td>OECD (2021), OECD Inter-Country Input-Output D...</td>\n",
       "      <td>ECNC</td>\n",
       "      <td>CO2 Emissions</td>\n",
       "      <td>Environment, Climate Change, Economic Activity...</td>\n",
       "      <td>Accomodation and food services</td>\n",
       "      <td>...</td>\n",
       "      <td>0.284</td>\n",
       "      <td>0.319</td>\n",
       "      <td>0.338</td>\n",
       "      <td>0.377</td>\n",
       "      <td>0.378</td>\n",
       "      <td>0.369</td>\n",
       "      <td>0.371</td>\n",
       "      <td>0.303</td>\n",
       "      <td>0.358</td>\n",
       "      <td>0.344</td>\n",
       "    </tr>\n",
       "    <tr>\n",
       "      <th>1</th>\n",
       "      <td>Argentina</td>\n",
       "      <td>AR</td>\n",
       "      <td>ARG</td>\n",
       "      <td>CO2 emissions</td>\n",
       "      <td>Millions of Metric tons of CO2</td>\n",
       "      <td>OECD (2021), OECD Inter-Country Input-Output D...</td>\n",
       "      <td>ECNC</td>\n",
       "      <td>CO2 Emissions</td>\n",
       "      <td>Environment, Climate Change, Economic Activity...</td>\n",
       "      <td>Activities of households as employers; undiffe...</td>\n",
       "      <td>...</td>\n",
       "      <td>0.000</td>\n",
       "      <td>0.000</td>\n",
       "      <td>0.000</td>\n",
       "      <td>0.000</td>\n",
       "      <td>0.000</td>\n",
       "      <td>0.000</td>\n",
       "      <td>0.000</td>\n",
       "      <td>0.000</td>\n",
       "      <td>0.000</td>\n",
       "      <td>0.000</td>\n",
       "    </tr>\n",
       "    <tr>\n",
       "      <th>2</th>\n",
       "      <td>Argentina</td>\n",
       "      <td>AR</td>\n",
       "      <td>ARG</td>\n",
       "      <td>CO2 emissions</td>\n",
       "      <td>Millions of Metric tons of CO2</td>\n",
       "      <td>OECD (2021), OECD Inter-Country Input-Output D...</td>\n",
       "      <td>ECNC</td>\n",
       "      <td>CO2 Emissions</td>\n",
       "      <td>Environment, Climate Change, Economic Activity...</td>\n",
       "      <td>Administrative and support services</td>\n",
       "      <td>...</td>\n",
       "      <td>0.725</td>\n",
       "      <td>0.738</td>\n",
       "      <td>0.765</td>\n",
       "      <td>0.777</td>\n",
       "      <td>0.840</td>\n",
       "      <td>0.794</td>\n",
       "      <td>0.852</td>\n",
       "      <td>0.789</td>\n",
       "      <td>0.846</td>\n",
       "      <td>0.857</td>\n",
       "    </tr>\n",
       "    <tr>\n",
       "      <th>3</th>\n",
       "      <td>Argentina</td>\n",
       "      <td>AR</td>\n",
       "      <td>ARG</td>\n",
       "      <td>CO2 emissions</td>\n",
       "      <td>Millions of Metric tons of CO2</td>\n",
       "      <td>OECD (2021), OECD Inter-Country Input-Output D...</td>\n",
       "      <td>ECNC</td>\n",
       "      <td>CO2 Emissions</td>\n",
       "      <td>Environment, Climate Change, Economic Activity...</td>\n",
       "      <td>Agriculture, hunting, forestry</td>\n",
       "      <td>...</td>\n",
       "      <td>13.804</td>\n",
       "      <td>14.110</td>\n",
       "      <td>14.616</td>\n",
       "      <td>14.120</td>\n",
       "      <td>15.358</td>\n",
       "      <td>13.728</td>\n",
       "      <td>14.273</td>\n",
       "      <td>13.838</td>\n",
       "      <td>14.121</td>\n",
       "      <td>13.067</td>\n",
       "    </tr>\n",
       "    <tr>\n",
       "      <th>4</th>\n",
       "      <td>Argentina</td>\n",
       "      <td>AR</td>\n",
       "      <td>ARG</td>\n",
       "      <td>CO2 emissions</td>\n",
       "      <td>Millions of Metric tons of CO2</td>\n",
       "      <td>OECD (2021), OECD Inter-Country Input-Output D...</td>\n",
       "      <td>ECNC</td>\n",
       "      <td>CO2 Emissions</td>\n",
       "      <td>Environment, Climate Change, Economic Activity...</td>\n",
       "      <td>Air transport</td>\n",
       "      <td>...</td>\n",
       "      <td>2.648</td>\n",
       "      <td>2.989</td>\n",
       "      <td>3.094</td>\n",
       "      <td>3.129</td>\n",
       "      <td>3.327</td>\n",
       "      <td>3.323</td>\n",
       "      <td>3.345</td>\n",
       "      <td>3.435</td>\n",
       "      <td>3.564</td>\n",
       "      <td>3.584</td>\n",
       "    </tr>\n",
       "  </tbody>\n",
       "</table>\n",
       "<p>5 rows × 35 columns</p>\n",
       "</div>"
      ],
      "text/plain": [
       "     Country ISO2 ISO3      Indicator                            Unit  \\\n",
       "0  Argentina   AR  ARG  CO2 emissions  Millions of Metric tons of CO2   \n",
       "1  Argentina   AR  ARG  CO2 emissions  Millions of Metric tons of CO2   \n",
       "2  Argentina   AR  ARG  CO2 emissions  Millions of Metric tons of CO2   \n",
       "3  Argentina   AR  ARG  CO2 emissions  Millions of Metric tons of CO2   \n",
       "4  Argentina   AR  ARG  CO2 emissions  Millions of Metric tons of CO2   \n",
       "\n",
       "                                              Source CTS Code       CTS Name  \\\n",
       "0  OECD (2021), OECD Inter-Country Input-Output D...     ECNC  CO2 Emissions   \n",
       "1  OECD (2021), OECD Inter-Country Input-Output D...     ECNC  CO2 Emissions   \n",
       "2  OECD (2021), OECD Inter-Country Input-Output D...     ECNC  CO2 Emissions   \n",
       "3  OECD (2021), OECD Inter-Country Input-Output D...     ECNC  CO2 Emissions   \n",
       "4  OECD (2021), OECD Inter-Country Input-Output D...     ECNC  CO2 Emissions   \n",
       "\n",
       "                                 CTS Full Descriptor  \\\n",
       "0  Environment, Climate Change, Economic Activity...   \n",
       "1  Environment, Climate Change, Economic Activity...   \n",
       "2  Environment, Climate Change, Economic Activity...   \n",
       "3  Environment, Climate Change, Economic Activity...   \n",
       "4  Environment, Climate Change, Economic Activity...   \n",
       "\n",
       "                                            Industry  ...    2009    2010  \\\n",
       "0                     Accomodation and food services  ...   0.284   0.319   \n",
       "1  Activities of households as employers; undiffe...  ...   0.000   0.000   \n",
       "2                Administrative and support services  ...   0.725   0.738   \n",
       "3                     Agriculture, hunting, forestry  ...  13.804  14.110   \n",
       "4                                      Air transport  ...   2.648   2.989   \n",
       "\n",
       "     2011    2012    2013    2014    2015    2016    2017    2018  \n",
       "0   0.338   0.377   0.378   0.369   0.371   0.303   0.358   0.344  \n",
       "1   0.000   0.000   0.000   0.000   0.000   0.000   0.000   0.000  \n",
       "2   0.765   0.777   0.840   0.794   0.852   0.789   0.846   0.857  \n",
       "3  14.616  14.120  15.358  13.728  14.273  13.838  14.121  13.067  \n",
       "4   3.094   3.129   3.327   3.323   3.345   3.435   3.564   3.584  \n",
       "\n",
       "[5 rows x 35 columns]"
      ]
     },
     "execution_count": 12,
     "metadata": {},
     "output_type": "execute_result"
    }
   ],
   "source": [
    "df.head()"
   ]
  },
  {
   "cell_type": "code",
   "execution_count": 13,
   "metadata": {},
   "outputs": [
    {
     "data": {
      "text/plain": [
       "Index(['Country', 'ISO2', 'ISO3', 'Indicator', 'Unit', 'Source', 'CTS Code',\n",
       "       'CTS Name', 'CTS Full Descriptor', 'Industry', 'Scale', '1995', '1996',\n",
       "       '1997', '1998', '1999', '2000', '2001', '2002', '2003', '2004', '2005',\n",
       "       '2006', '2007', '2008', '2009', '2010', '2011', '2012', '2013', '2014',\n",
       "       '2015', '2016', '2017', '2018'],\n",
       "      dtype='object')"
      ]
     },
     "execution_count": 13,
     "metadata": {},
     "output_type": "execute_result"
    }
   ],
   "source": [
    "df.columns"
   ]
  },
  {
   "cell_type": "code",
   "execution_count": 15,
   "metadata": {},
   "outputs": [
    {
     "data": {
      "text/plain": [
       "array(['Accomodation and food services',\n",
       "       'Activities of households as employers; undifferentiated goods- and services-producing activities of households for own use',\n",
       "       'Administrative and support services',\n",
       "       'Agriculture, hunting, forestry', 'Air transport',\n",
       "       'Arts, entertainment and recreation', 'Basic metals',\n",
       "       'Chemicals and pharmaceutical products',\n",
       "       'Coke and refined petroleum products',\n",
       "       'Computer, electronic and optical products', 'Construction',\n",
       "       'Education', 'Electrical equipment',\n",
       "       'Electricity, gas, steam and air conditioning supply',\n",
       "       'Fabricated metal products', 'Financial and insurance activities',\n",
       "       'Fishing and aquaculture', 'Food products, beverages and tobacco',\n",
       "       'Human health and social work activities',\n",
       "       'IT and other information services',\n",
       "       'Land transport and transport via pipelines',\n",
       "       'Machinery and equipment n.e.c.',\n",
       "       'Manufacturing nec; repair and installation of machinery and equipment',\n",
       "       'Mining and quarrying, energy producing products',\n",
       "       'Mining and quarrying, non-energy producing products',\n",
       "       'Mining support service activities',\n",
       "       'Motor vehicles, trailers and semi-trailers',\n",
       "       'Other non-metallic mineral products', 'Other service activities',\n",
       "       'Other transport equipment', 'Paper products and printing',\n",
       "       'Pharmaceuticals, medicinal chemical and botanical products',\n",
       "       'Postal and courier activities',\n",
       "       'Professional, scientific and technical activities',\n",
       "       'Public administration and defence; compulsory social security',\n",
       "       'Publishing, audiovisual and broadcasting activities',\n",
       "       'Real estate activities', 'Rubber and plastics products',\n",
       "       'Telecommunications',\n",
       "       'Textiles, textile products, leather and footwear',\n",
       "       'Warehousing and support activities for transportation',\n",
       "       'Water supply; sewerage, waste management and remediation activities',\n",
       "       'Water transport',\n",
       "       'Wholesale and retail trade; repair of motor vehicles',\n",
       "       'Wood and products of wood and cork'], dtype=object)"
      ]
     },
     "execution_count": 15,
     "metadata": {},
     "output_type": "execute_result"
    }
   ],
   "source": [
    "df[\"Industry\"].unique()"
   ]
  },
  {
   "cell_type": "code",
   "execution_count": 25,
   "metadata": {},
   "outputs": [
    {
     "name": "stdout",
     "output_type": "stream",
     "text": [
      "66\n",
      "['Argentina' 'Australia' 'Austria' 'Belgium' 'Brazil' 'Brunei Darussalam'\n",
      " 'Bulgaria' 'Cambodia' 'Canada' 'Chile' 'China, P.R.: Hong Kong'\n",
      " 'China, P.R.: Mainland' 'Colombia' 'Costa Rica' 'Croatia, Rep. of'\n",
      " 'Cyprus' 'Czech Rep.' 'Denmark' 'Estonia, Rep. of' 'Finland' 'France'\n",
      " 'Germany' 'Greece' 'Hungary' 'Iceland' 'India' 'Indonesia' 'Ireland'\n",
      " 'Israel' 'Italy' 'Japan' 'Kazakhstan, Rep. of' 'Korea, Rep. of'\n",
      " \"Lao People's Dem. Rep.\" 'Latvia' 'Lithuania' 'Luxembourg' 'Malaysia'\n",
      " 'Malta' 'Mexico' 'Morocco' 'Myanmar' 'Netherlands, The' 'New Zealand'\n",
      " 'Norway' 'Peru' 'Philippines' 'Poland, Rep. of' 'Portugal' 'Romania'\n",
      " 'Russian Federation' 'Saudi Arabia' 'Singapore' 'Slovak Rep.'\n",
      " 'Slovenia, Rep. of' 'South Africa' 'Spain' 'Sweden' 'Switzerland'\n",
      " 'Taiwan Province of China' 'Thailand' 'Tunisia' 'Turkey' 'United Kingdom'\n",
      " 'United States' 'Vietnam']\n"
     ]
    }
   ],
   "source": [
    "countries = df[\"Country\"].unique()\n",
    "print(len(countries))\n",
    "print(countries)"
   ]
  },
  {
   "cell_type": "code",
   "execution_count": 18,
   "metadata": {},
   "outputs": [
    {
     "data": {
      "text/plain": [
       "array(['CO2 emissions', 'CO2 emissions intensities',\n",
       "       'CO2 emissions multipliers'], dtype=object)"
      ]
     },
     "execution_count": 18,
     "metadata": {},
     "output_type": "execute_result"
    }
   ],
   "source": [
    "df[\"Indicator\"].unique()"
   ]
  },
  {
   "cell_type": "code",
   "execution_count": 21,
   "metadata": {},
   "outputs": [
    {
     "data": {
      "text/plain": [
       "Country                0\n",
       "ISO2                   0\n",
       "ISO3                   0\n",
       "Indicator              0\n",
       "Unit                   0\n",
       "Source                 0\n",
       "CTS Code               0\n",
       "CTS Name               0\n",
       "CTS Full Descriptor    0\n",
       "Industry               0\n",
       "Scale                  0\n",
       "1995                   0\n",
       "1996                   0\n",
       "1997                   0\n",
       "1998                   0\n",
       "1999                   0\n",
       "2000                   0\n",
       "2001                   0\n",
       "2002                   0\n",
       "2003                   0\n",
       "2004                   0\n",
       "2005                   0\n",
       "2006                   0\n",
       "2007                   0\n",
       "2008                   0\n",
       "2009                   0\n",
       "2010                   0\n",
       "2011                   0\n",
       "2012                   0\n",
       "2013                   0\n",
       "2014                   0\n",
       "2015                   0\n",
       "2016                   0\n",
       "2017                   0\n",
       "2018                   0\n",
       "dtype: int64"
      ]
     },
     "execution_count": 21,
     "metadata": {},
     "output_type": "execute_result"
    }
   ],
   "source": [
    "# no null values\n",
    "\n",
    "df.isnull().sum()"
   ]
  },
  {
   "cell_type": "code",
   "execution_count": 23,
   "metadata": {},
   "outputs": [
    {
     "data": {
      "text/plain": [
       "Country                 object\n",
       "ISO2                    object\n",
       "ISO3                    object\n",
       "Indicator               object\n",
       "Unit                    object\n",
       "Source                  object\n",
       "CTS Code                object\n",
       "CTS Name                object\n",
       "CTS Full Descriptor     object\n",
       "Industry                object\n",
       "Scale                   object\n",
       "1995                   float64\n",
       "1996                   float64\n",
       "1997                   float64\n",
       "1998                   float64\n",
       "1999                   float64\n",
       "2000                   float64\n",
       "2001                   float64\n",
       "2002                   float64\n",
       "2003                   float64\n",
       "2004                   float64\n",
       "2005                   float64\n",
       "2006                   float64\n",
       "2007                   float64\n",
       "2008                   float64\n",
       "2009                   float64\n",
       "2010                   float64\n",
       "2011                   float64\n",
       "2012                   float64\n",
       "2013                   float64\n",
       "2014                   float64\n",
       "2015                   float64\n",
       "2016                   float64\n",
       "2017                   float64\n",
       "2018                   float64\n",
       "dtype: object"
      ]
     },
     "execution_count": 23,
     "metadata": {},
     "output_type": "execute_result"
    }
   ],
   "source": [
    "df.dtypes"
   ]
  },
  {
   "cell_type": "code",
   "execution_count": null,
   "metadata": {},
   "outputs": [],
   "source": []
  }
 ],
 "metadata": {
  "kernelspec": {
   "display_name": "data-analysis",
   "language": "python",
   "name": "data-analysis"
  },
  "language_info": {
   "codemirror_mode": {
    "name": "ipython",
    "version": 3
   },
   "file_extension": ".py",
   "mimetype": "text/x-python",
   "name": "python",
   "nbconvert_exporter": "python",
   "pygments_lexer": "ipython3",
   "version": "3.8.16"
  }
 },
 "nbformat": 4,
 "nbformat_minor": 4
}
