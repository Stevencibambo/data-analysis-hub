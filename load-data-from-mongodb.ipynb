{
 "cells": [
  {
   "cell_type": "code",
   "execution_count": 1,
   "id": "b6d924b0",
   "metadata": {},
   "outputs": [],
   "source": [
    "DB_CX_STRING = \"mongodb://localhost:27017\"\n",
    "DB_NAME = \"caliperdb\"\n",
    "COLLECTION = \"events\""
   ]
  },
  {
   "cell_type": "code",
   "execution_count": null,
   "id": "2f67d783",
   "metadata": {},
   "outputs": [],
   "source": [
    "# let's diplay few data\n",
    "data_df.head()\n",
    "# you can remove some unnecessary columns like this\n",
    "data_df = data_df.drop(columns = ['column1', 'column2', '....'], axis=1)"
   ]
  },
  {
   "cell_type": "code",
   "execution_count": 2,
   "id": "06eabcd2",
   "metadata": {},
   "outputs": [],
   "source": [
    "# import some necessary packages\n",
    "\n",
    "import pymongo as pm\n",
    "import pandas as pd"
   ]
  },
  {
   "cell_type": "code",
   "execution_count": 3,
   "id": "fe4761c6",
   "metadata": {},
   "outputs": [],
   "source": [
    "# Connect to mongodb\n",
    "# DB_CX_STRING (e.g: \"mongodb://host:port\")\n",
    "\n",
    "client = pm.MongoClient(DB_CX_STRING)\n",
    "db = client[DB_NAME]\n",
    "collection = db[COLLECTION]"
   ]
  },
  {
   "cell_type": "code",
   "execution_count": 4,
   "id": "1cc6874a",
   "metadata": {},
   "outputs": [],
   "source": [
    "# query the DB and retrieve the data\n",
    "\n",
    "data = collection.find()"
   ]
  },
  {
   "cell_type": "code",
   "execution_count": 5,
   "id": "c03fbb71",
   "metadata": {},
   "outputs": [],
   "source": [
    "# convert a mongodb cursor to panda dataframe\n",
    "\n",
    "data_df = pd.DataFrame(list(data))"
   ]
  },
  {
   "cell_type": "code",
   "execution_count": 6,
   "id": "273cbf82",
   "metadata": {},
   "outputs": [
    {
     "data": {
      "text/plain": [
       "(1331233, 8)"
      ]
     },
     "execution_count": 6,
     "metadata": {},
     "output_type": "execute_result"
    }
   ],
   "source": [
    "# let's check the dimension of the data\n",
    "\n",
    "data_df.shape"
   ]
  },
  {
   "cell_type": "code",
   "execution_count": null,
   "id": "4a5d35f3",
   "metadata": {},
   "outputs": [],
   "source": [
    "# let's diplay few data\n",
    "\n",
    "data_df.head()"
   ]
  },
  {
   "cell_type": "code",
   "execution_count": null,
   "id": "187b3f35",
   "metadata": {},
   "outputs": [],
   "source": [
    "# You can remove some unnecessary columns like this\n",
    "\n",
    "data_df = data_df.drop(columns = ['column1', 'column2', '...'], axis=1)"
   ]
  }
 ],
 "metadata": {
  "kernelspec": {
   "display_name": "data-analysis",
   "language": "python",
   "name": "data-analysis"
  },
  "language_info": {
   "codemirror_mode": {
    "name": "ipython",
    "version": 3
   },
   "file_extension": ".py",
   "mimetype": "text/x-python",
   "name": "python",
   "nbconvert_exporter": "python",
   "pygments_lexer": "ipython3",
   "version": "3.8.16"
  }
 },
 "nbformat": 4,
 "nbformat_minor": 5
}
